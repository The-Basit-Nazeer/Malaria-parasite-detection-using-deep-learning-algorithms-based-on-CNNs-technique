{
  "cells": [
    {
      "cell_type": "markdown",
      "metadata": {
        "id": "view-in-github",
        "colab_type": "text"
      },
      "source": [
        "<a href=\"https://colab.research.google.com/github/The-Basit-Nazeer/Malaria-parasite-detection-using-deep-learning-algorithms-based-on-CNNs-technique/blob/main/Malariagit96_final.ipynb\" target=\"_parent\"><img src=\"https://colab.research.google.com/assets/colab-badge.svg\" alt=\"Open In Colab\"/></a>"
      ]
    },
    {
      "cell_type": "markdown",
      "metadata": {
        "id": "4ed90e85"
      },
      "source": [
        "# <font color = 'Courier New'> Detection Of Malarial Infected Cells Using Convolutional Neural Networks</font>"
      ],
      "id": "4ed90e85"
    },
    {
      "cell_type": "markdown",
      "metadata": {
        "id": "1301e875"
      },
      "source": [],
      "id": "1301e875"
    },
    {
      "cell_type": "markdown",
      "metadata": {
        "id": "48231a61"
      },
      "source": [
        "##  <font color = 'Blue'> Importing the Libraries and Packages <font/>"
      ],
      "id": "48231a61"
    },
    {
      "cell_type": "code",
      "source": [],
      "metadata": {
        "id": "SeAQkp1_44tf"
      },
      "id": "SeAQkp1_44tf",
      "execution_count": null,
      "outputs": []
    },
    {
      "cell_type": "code",
      "execution_count": 1,
      "metadata": {
        "id": "35df39d9"
      },
      "outputs": [],
      "source": [
        "from keras.models import Sequential\n",
        "from keras.layers import Conv2D\n",
        "from keras.layers import MaxPooling2D\n",
        "from keras.layers import Flatten\n",
        "from keras.layers import Dropout\n",
        "from keras.layers import Dense\n",
        "from tensorflow.keras.models import load_model\n",
        "import numpy as np\n",
        "import pandas as pd\n",
        "import matplotlib.pyplot as plt\n",
        "from keras.preprocessing import image\n",
        "from tensorflow.keras.utils import load_img\n",
        "from keras.preprocessing.image import ImageDataGenerator\n",
        "from keras.callbacks import EarlyStopping"
      ],
      "id": "35df39d9"
    },
    {
      "cell_type": "code",
      "execution_count": 2,
      "metadata": {
        "colab": {
          "base_uri": "https://localhost:8080/"
        },
        "id": "uyuy-GfGc6aU",
        "outputId": "17d00add-5a21-433f-e713-7cec402d90e6"
      },
      "outputs": [
        {
          "output_type": "stream",
          "name": "stdout",
          "text": [
            "Mounted at /content/drive/\n"
          ]
        }
      ],
      "source": [
        "from google.colab import drive\n",
        "drive.mount('/content/drive/')\n",
        "#drive.mount('/content/drive/MyDrive/Colab_Notebooks/Dataset/cell_images/')\n",
        "#os.listdir()\n",
        "#%cd /MyDrive/Colab_Notebooks/"
      ],
      "id": "uyuy-GfGc6aU"
    },
    {
      "cell_type": "code",
      "execution_count": 3,
      "metadata": {
        "colab": {
          "base_uri": "https://localhost:8080/"
        },
        "id": "V0i5uGLUKDIr",
        "outputId": "ae10c49e-4bc0-44c9-9787-5984971e8ae4"
      },
      "outputs": [
        {
          "output_type": "stream",
          "name": "stdout",
          "text": [
            "['cell_images', 'Malariagit97_final.h5']\n",
            "/content/drive/MyDrive/Colab_Notebooks/Dataset\n"
          ]
        }
      ],
      "source": [
        "path = \"/content/drive/MyDrive/Colab_Notebooks/Dataset\"\n",
        "import os\n",
        "fnames = os.listdir(path)\n",
        "print(fnames)\n",
        "%cd /content/drive/MyDrive/Colab_Notebooks/Dataset"
      ],
      "id": "V0i5uGLUKDIr"
    },
    {
      "cell_type": "markdown",
      "metadata": {
        "id": "4ed012e8"
      },
      "source": [
        "# <font color = 'purple'>Training & Testing Data</font>"
      ],
      "id": "4ed012e8"
    },
    {
      "cell_type": "markdown",
      "metadata": {
        "id": "3c2ee045"
      },
      "source": [
        "######  This Dataset is taken from the official NIH Website: https://ceb.nlm.nih.gov/repositories/malaria-datasets/"
      ],
      "id": "3c2ee045"
    },
    {
      "cell_type": "markdown",
      "metadata": {
        "id": "82057c42"
      },
      "source": [
        "#### Load random sample images :"
      ],
      "id": "82057c42"
    },
    {
      "cell_type": "code",
      "execution_count": 4,
      "metadata": {
        "colab": {
          "base_uri": "https://localhost:8080/",
          "height": 146
        },
        "id": "41b03133",
        "outputId": "3588f8a5-d0a2-4315-ffb4-09331835bcc1"
      },
      "outputs": [
        {
          "output_type": "stream",
          "name": "stdout",
          "text": [
            "/content/drive/MyDrive/Colab_Notebooks/Dataset\n"
          ]
        },
        {
          "output_type": "execute_result",
          "data": {
            "text/plain": [
              "<PIL.PngImagePlugin.PngImageFile image mode=RGB size=142x112>"
            ],
            "image/png": "[encoded data removed]"
          },
          "metadata": {},
          "execution_count": 4
        }
      ],
      "source": [
        "from pathlib import Path\n",
        "\n",
        "print(Path.cwd())\n",
        "load_img('cell_images/Uninfected/C1_thinF_IMG_20150604_104919_cell_134.png',)"
      ],
      "id": "41b03133"
    },
    {
      "cell_type": "code",
      "execution_count": 5,
      "metadata": {
        "colab": {
          "base_uri": "https://localhost:8080/",
          "height": 156
        },
        "id": "fa1e09f5",
        "outputId": "3cc94d9e-e69e-4710-d3f1-bc948f0552af"
      },
      "outputs": [
        {
          "output_type": "execute_result",
          "data": {
            "text/plain": [
              "<PIL.PngImagePlugin.PngImageFile image mode=RGB size=139x139>"
            ],
            "image/png": "[encoded data removed]"
          },
          "metadata": {},
          "execution_count": 5
        }
      ],
      "source": [
        "load_img('cell_images/Parasitized/C37BP2_thinF_IMG_20150620_131423a_cell_92.png')"
      ],
      "id": "fa1e09f5"
    },
    {
      "cell_type": "markdown",
      "metadata": {
        "id": "6212b7ed"
      },
      "source": [
        "#"
      ],
      "id": "6212b7ed"
    },
    {
      "cell_type": "markdown",
      "metadata": {
        "id": "d5772518"
      },
      "source": [
        "# <font color = 'green'>Pre-Processing images</font>"
      ],
      "id": "d5772518"
    },
    {
      "cell_type": "markdown",
      "metadata": {
        "id": "2d232aa9"
      },
      "source": [
        "### Data-Augmentation"
      ],
      "id": "2d232aa9"
    },
    {
      "cell_type": "code",
      "execution_count": 6,
      "metadata": {
        "colab": {
          "base_uri": "https://localhost:8080/"
        },
        "id": "13e3e990",
        "outputId": "521953cd-7b36-4c35-c6ec-24e7628bae95"
      },
      "outputs": [
        {
          "output_type": "stream",
          "name": "stdout",
          "text": [
            "Found 27589 images belonging to 2 classes.\n",
            "Found 27589 images belonging to 2 classes.\n"
          ]
        }
      ],
      "source": [
        "\n",
        "\n",
        "\n",
        "train_datagen = ImageDataGenerator(rescale = 1./255,\n",
        "                                   shear_range = 0.2,\n",
        "                                   zoom_range = 0.2,\n",
        "                                   horizontal_flip = True)\n",
        "\n",
        "test_datagen = ImageDataGenerator(rescale = 1./255)\n",
        "\n",
        "training_set = train_datagen.flow_from_directory('cell_images/',\n",
        "                                                 target_size = (64, 64),\n",
        "                                                 batch_size = 64,\n",
        "                                                 class_mode = 'binary')\n",
        "\n",
        "test_set = test_datagen.flow_from_directory('cell_images/',\n",
        "                                            target_size = (64, 64),\n",
        "                                            batch_size = 64,\n",
        "                                            class_mode = 'binary')"
      ],
      "id": "13e3e990"
    },
    {
      "cell_type": "markdown",
      "metadata": {
        "id": "835863d2"
      },
      "source": [
        "### training_set * batch size\n",
        "    431 * 64 =27584"
      ],
      "id": "835863d2"
    },
    {
      "cell_type": "code",
      "execution_count": 7,
      "metadata": {
        "colab": {
          "base_uri": "https://localhost:8080/"
        },
        "id": "fcad6ec2",
        "outputId": "f7f271b8-a263-40db-a313-a95e56916832"
      },
      "outputs": [
        {
          "output_type": "execute_result",
          "data": {
            "text/plain": [
              "432"
            ]
          },
          "metadata": {},
          "execution_count": 7
        }
      ],
      "source": [
        "len(training_set)"
      ],
      "id": "fcad6ec2"
    },
    {
      "cell_type": "code",
      "execution_count": 8,
      "metadata": {
        "colab": {
          "base_uri": "https://localhost:8080/"
        },
        "id": "9228c680",
        "outputId": "b283af70-1252-4b08-c215-78d7aa231de4"
      },
      "outputs": [
        {
          "output_type": "execute_result",
          "data": {
            "text/plain": [
              "432"
            ]
          },
          "metadata": {},
          "execution_count": 8
        }
      ],
      "source": [
        "len(test_set)"
      ],
      "id": "9228c680"
    },
    {
      "cell_type": "markdown",
      "metadata": {
        "id": "d28330a9"
      },
      "source": [
        "#"
      ],
      "id": "d28330a9"
    },
    {
      "cell_type": "markdown",
      "metadata": {
        "id": "7274e5c4"
      },
      "source": [
        "# <font color = 'Courier New'>CNN Model Architecture</font>"
      ],
      "id": "7274e5c4"
    },
    {
      "cell_type": "code",
      "execution_count": 9,
      "metadata": {
        "id": "426fed9c"
      },
      "outputs": [],
      "source": [
        "# Initialising the CNN\n",
        "Model = Sequential()\n",
        "\n",
        "\n",
        "# Step 1 - Convolution layer 1\n",
        "Model.add(Conv2D(32, kernel_size =(3, 3), input_shape = (64, 64, 3), activation = 'relu', padding = 'same'))\n",
        "\n",
        "# Step 2 - Max Pooling\n",
        "Model.add(MaxPooling2D(pool_size = (2, 2)))\n",
        "\n",
        "#step 3 Dropout layers - Regularization technique\n",
        "Model.add(Dropout(rate=0.2))\n",
        "\n",
        "\n",
        "\n",
        "# step 4 convolutional layer 2\n",
        "Model.add(Conv2D(32, kernel_size =(3, 3), input_shape = (64, 64, 3), activation = 'relu', padding = 'same'))\n",
        "\n",
        "# Step 5 - Max Pooling\n",
        "Model.add(MaxPooling2D(pool_size = (2, 2)))\n",
        "\n",
        "# Step 6 - Dropout\n",
        "Model.add(Dropout(rate=0.2))\n",
        "\n",
        "\n",
        "\n",
        "# Step 7 -Convolution layer 3\n",
        "Model.add(Conv2D(32, kernel_size =(3, 3), input_shape = (64, 64, 3), activation = 'relu', padding = 'same'))\n",
        "\n",
        "#step 8 Max Pooling\n",
        "Model.add(MaxPooling2D(pool_size = (2, 2)))\n",
        "\n",
        "#step 9 Dropout\n",
        "Model.add(Dropout(rate=0.2))\n",
        "\n",
        "\n",
        "# Step 10 - Flattening\n",
        "Model.add(Flatten())\n",
        "\n",
        "# Step 11 - Full connected neuron layer\n",
        "Model.add(Dense(units = 256, activation = 'relu'))\n",
        "Model.add(Dropout(rate=0.2))\n",
        "\n",
        "Model.add(Dense(units = 128, activation = 'relu'))\n",
        "Model.add(Dropout(rate=0.2))\n",
        "\n",
        "Model.add(Dense(units = 1, activation = 'sigmoid'))"
      ],
      "id": "426fed9c"
    },
    {
      "cell_type": "code",
      "execution_count": 10,
      "metadata": {
        "colab": {
          "base_uri": "https://localhost:8080/"
        },
        "id": "1fc7bf21",
        "outputId": "9702ac11-bd04-441c-9c5c-7cfc597e2cb2"
      },
      "outputs": [
        {
          "output_type": "stream",
          "name": "stdout",
          "text": [
            "Model: \"sequential\"\n",
            "_________________________________________________________________\n",
            " Layer (type)                Output Shape              Param #   \n",
            "=================================================================\n",
            " conv2d (Conv2D)             (None, 64, 64, 32)        896       \n",
            "                                                                 \n",
            " max_pooling2d (MaxPooling2  (None, 32, 32, 32)        0         \n",
            " D)                                                              \n",
            "                                                                 \n",
            " dropout (Dropout)           (None, 32, 32, 32)        0         \n",
            "                                                                 \n",
            " conv2d_1 (Conv2D)           (None, 32, 32, 32)        9248      \n",
            "                                                                 \n",
            " max_pooling2d_1 (MaxPoolin  (None, 16, 16, 32)        0         \n",
            " g2D)                                                            \n",
            "                                                                 \n",
            " dropout_1 (Dropout)         (None, 16, 16, 32)        0         \n",
            "                                                                 \n",
            " conv2d_2 (Conv2D)           (None, 16, 16, 32)        9248      \n",
            "                                                                 \n",
            " max_pooling2d_2 (MaxPoolin  (None, 8, 8, 32)          0         \n",
            " g2D)                                                            \n",
            "                                                                 \n",
            " dropout_2 (Dropout)         (None, 8, 8, 32)          0         \n",
            "                                                                 \n",
            " flatten (Flatten)           (None, 2048)              0         \n",
            "                                                                 \n",
            " dense (Dense)               (None, 256)               524544    \n",
            "                                                                 \n",
            " dropout_3 (Dropout)         (None, 256)               0         \n",
            "                                                                 \n",
            " dense_1 (Dense)             (None, 128)               32896     \n",
            "                                                                 \n",
            " dropout_4 (Dropout)         (None, 128)               0         \n",
            "                                                                 \n",
            " dense_2 (Dense)             (None, 1)                 129       \n",
            "                                                                 \n",
            "=================================================================\n",
            "Total params: 576961 (2.20 MB)\n",
            "Trainable params: 576961 (2.20 MB)\n",
            "Non-trainable params: 0 (0.00 Byte)\n",
            "_________________________________________________________________\n"
          ]
        }
      ],
      "source": [
        "Model.summary()"
      ],
      "id": "1fc7bf21"
    },
    {
      "cell_type": "markdown",
      "metadata": {
        "id": "ea7edf85"
      },
      "source": [
        "#"
      ],
      "id": "ea7edf85"
    },
    {
      "cell_type": "markdown",
      "metadata": {
        "id": "0abecca0"
      },
      "source": [
        "# <font color = 'Orange'>Compile & Training the Model</font>"
      ],
      "id": "0abecca0"
    },
    {
      "cell_type": "code",
      "execution_count": 11,
      "metadata": {
        "id": "6f81bc76"
      },
      "outputs": [],
      "source": [
        "Model.compile(optimizer = 'adam', loss = 'binary_crossentropy', metrics = ['accuracy'])"
      ],
      "id": "6f81bc76"
    },
    {
      "cell_type": "markdown",
      "metadata": {
        "id": "473c17dc"
      },
      "source": [
        "#### Early stopping Regularization - To prevent overfitting problem"
      ],
      "id": "473c17dc"
    },
    {
      "cell_type": "code",
      "execution_count": 12,
      "metadata": {
        "id": "77fcaad7"
      },
      "outputs": [],
      "source": [
        "earlystop= EarlyStopping(monitor='val_accuracy', patience=3)"
      ],
      "id": "77fcaad7"
    },
    {
      "cell_type": "markdown",
      "metadata": {
        "id": "5eee2365"
      },
      "source": [
        "## Training the Model"
      ],
      "id": "5eee2365"
    },
    {
      "cell_type": "code",
      "execution_count": 13,
      "metadata": {
        "colab": {
          "base_uri": "https://localhost:8080/"
        },
        "id": "7942bc6f",
        "outputId": "214ae4f9-6e4b-449a-87c0-3cb1b0aa24cf"
      },
      "outputs": [
        {
          "output_type": "stream",
          "name": "stdout",
          "text": [
            "Epoch 1/20\n",
            "432/432 [==============================] - 4052s 9s/step - loss: 0.4746 - accuracy: 0.7477 - val_loss: 0.1567 - val_accuracy: 0.9546\n",
            "Epoch 2/20\n",
            "432/432 [==============================] - 435s 1s/step - loss: 0.1652 - accuracy: 0.9490 - val_loss: 0.1475 - val_accuracy: 0.9551\n",
            "Epoch 3/20\n",
            "432/432 [==============================] - 487s 1s/step - loss: 0.1544 - accuracy: 0.9528 - val_loss: 0.1360 - val_accuracy: 0.9548\n",
            "Epoch 4/20\n",
            "432/432 [==============================] - 484s 1s/step - loss: 0.1514 - accuracy: 0.9534 - val_loss: 0.1244 - val_accuracy: 0.9586\n",
            "Epoch 5/20\n",
            "432/432 [==============================] - 442s 1s/step - loss: 0.1420 - accuracy: 0.9564 - val_loss: 0.1389 - val_accuracy: 0.9572\n",
            "Epoch 6/20\n",
            "432/432 [==============================] - 499s 1s/step - loss: 0.1377 - accuracy: 0.9568 - val_loss: 0.1254 - val_accuracy: 0.9570\n",
            "Epoch 7/20\n",
            "432/432 [==============================] - 445s 1s/step - loss: 0.1346 - accuracy: 0.9560 - val_loss: 0.1213 - val_accuracy: 0.9614\n",
            "Epoch 8/20\n",
            "432/432 [==============================] - 488s 1s/step - loss: 0.1321 - accuracy: 0.9566 - val_loss: 0.1174 - val_accuracy: 0.9611\n",
            "Epoch 9/20\n",
            "432/432 [==============================] - 490s 1s/step - loss: 0.1295 - accuracy: 0.9582 - val_loss: 0.1175 - val_accuracy: 0.9609\n",
            "Epoch 10/20\n",
            "432/432 [==============================] - 490s 1s/step - loss: 0.1300 - accuracy: 0.9585 - val_loss: 0.1132 - val_accuracy: 0.9621\n",
            "Epoch 11/20\n",
            "432/432 [==============================] - 488s 1s/step - loss: 0.1269 - accuracy: 0.9589 - val_loss: 0.1312 - val_accuracy: 0.9601\n",
            "Epoch 12/20\n",
            "432/432 [==============================] - 485s 1s/step - loss: 0.1252 - accuracy: 0.9588 - val_loss: 0.1091 - val_accuracy: 0.9625\n",
            "Epoch 13/20\n",
            "432/432 [==============================] - 440s 1s/step - loss: 0.1241 - accuracy: 0.9592 - val_loss: 0.1092 - val_accuracy: 0.9626\n",
            "Epoch 14/20\n",
            "432/432 [==============================] - 487s 1s/step - loss: 0.1214 - accuracy: 0.9603 - val_loss: 0.1134 - val_accuracy: 0.9632\n",
            "Epoch 15/20\n",
            "432/432 [==============================] - 435s 1s/step - loss: 0.1219 - accuracy: 0.9601 - val_loss: 0.1158 - val_accuracy: 0.9634\n",
            "Epoch 16/20\n",
            "432/432 [==============================] - 484s 1s/step - loss: 0.1179 - accuracy: 0.9609 - val_loss: 0.1085 - val_accuracy: 0.9644\n",
            "Epoch 17/20\n",
            "432/432 [==============================] - 484s 1s/step - loss: 0.1181 - accuracy: 0.9617 - val_loss: 0.1130 - val_accuracy: 0.9636\n",
            "Epoch 18/20\n",
            "432/432 [==============================] - 483s 1s/step - loss: 0.1190 - accuracy: 0.9603 - val_loss: 0.1073 - val_accuracy: 0.9632\n",
            "Epoch 19/20\n",
            "432/432 [==============================] - 485s 1s/step - loss: 0.1214 - accuracy: 0.9603 - val_loss: 0.1018 - val_accuracy: 0.9659\n",
            "Epoch 20/20\n",
            "432/432 [==============================] - 430s 996ms/step - loss: 0.1168 - accuracy: 0.9610 - val_loss: 0.1007 - val_accuracy: 0.9649\n"
          ]
        }
      ],
      "source": [
        "history=Model.fit(training_set,batch_size=64,\n",
        "                         verbose = 1,\n",
        "                         steps_per_epoch = len(training_set),\n",
        "                         epochs = 20,\n",
        "                         validation_data = test_set,\n",
        "                         validation_steps=len(test_set),\n",
        "                        callbacks=[earlystop])\n"
      ],
      "id": "7942bc6f"
    },
    {
      "cell_type": "code",
      "execution_count": 14,
      "metadata": {
        "colab": {
          "base_uri": "https://localhost:8080/",
          "height": 676
        },
        "id": "904215e5",
        "outputId": "dc90f2e3-3b7a-49c1-b000-c3a2e002d592"
      },
      "outputs": [
        {
          "output_type": "execute_result",
          "data": {
            "text/plain": [
              "        loss  accuracy  val_loss  val_accuracy\n",
              "0   0.474619  0.747726  0.156677      0.954583\n",
              "1   0.165243  0.948965  0.147486      0.955127\n",
              "2   0.154386  0.952771  0.136025      0.954765\n",
              "3   0.151397  0.953387  0.124373      0.958643\n",
              "4   0.142033  0.956359  0.138921      0.957157\n",
              "5   0.137711  0.956758  0.125429      0.957048\n",
              "6   0.134598  0.956033  0.121255      0.961361\n",
              "7   0.132065  0.956649  0.117443      0.961144\n",
              "8   0.129497  0.958208  0.117457      0.960926\n",
              "9   0.130037  0.958462  0.113182      0.962050\n",
              "10  0.126901  0.958933  0.131168      0.960093\n",
              "11  0.125232  0.958824  0.109091      0.962485\n",
              "12  0.124089  0.959150  0.109227      0.962630\n",
              "13  0.121392  0.960310  0.113407      0.963174\n",
              "14  0.121875  0.960093  0.115848      0.963391\n",
              "15  0.117856  0.960854  0.108527      0.964370\n",
              "16  0.118076  0.961688  0.113047      0.963572\n",
              "17  0.118968  0.960347  0.107289      0.963174\n",
              "18  0.121443  0.960274  0.101752      0.965856\n",
              "19  0.116835  0.960999  0.100651      0.964914"
            ],
            "text/html": [
              "\n",
              "  <div id=\"df-64a7a80c-a4f6-457a-b8d3-a45c43d8ea48\" class=\"colab-df-container\">\n",
              "    <div>\n",
              "<style scoped>\n",
              "    .dataframe tbody tr th:only-of-type {\n",
              "        vertical-align: middle;\n",
              "    }\n",
              "\n",
              "    .dataframe tbody tr th {\n",
              "        vertical-align: top;\n",
              "    }\n",
              "\n",
              "    .dataframe thead th {\n",
              "        text-align: right;\n",
              "    }\n",
              "</style>\n",
              "<table border=\"1\" class=\"dataframe\">\n",
              "  <thead>\n",
              "    <tr style=\"text-align: right;\">\n",
              "      <th></th>\n",
              "      <th>loss</th>\n",
              "      <th>accuracy</th>\n",
              "      <th>val_loss</th>\n",
              "      <th>val_accuracy</th>\n",
              "    </tr>\n",
              "  </thead>\n",
              "  <tbody>\n",
              "    <tr>\n",
              "      <th>0</th>\n",
              "      <td>0.474619</td>\n",
              "      <td>0.747726</td>\n",
              "      <td>0.156677</td>\n",
              "      <td>0.954583</td>\n",
              "    </tr>\n",
              "    <tr>\n",
              "      <th>1</th>\n",
              "      <td>0.165243</td>\n",
              "      <td>0.948965</td>\n",
              "      <td>0.147486</td>\n",
              "      <td>0.955127</td>\n",
              "    </tr>\n",
              "    <tr>\n",
              "      <th>2</th>\n",
              "      <td>0.154386</td>\n",
              "      <td>0.952771</td>\n",
              "      <td>0.136025</td>\n",
              "      <td>0.954765</td>\n",
              "    </tr>\n",
              "    <tr>\n",
              "      <th>3</th>\n",
              "      <td>0.151397</td>\n",
              "      <td>0.953387</td>\n",
              "      <td>0.124373</td>\n",
              "      <td>0.958643</td>\n",
              "    </tr>\n",
              "    <tr>\n",
              "      <th>4</th>\n",
              "      <td>0.142033</td>\n",
              "      <td>0.956359</td>\n",
              "      <td>0.138921</td>\n",
              "      <td>0.957157</td>\n",
              "    </tr>\n",
              "    <tr>\n",
              "      <th>5</th>\n",
              "      <td>0.137711</td>\n",
              "      <td>0.956758</td>\n",
              "      <td>0.125429</td>\n",
              "      <td>0.957048</td>\n",
              "    </tr>\n",
              "    <tr>\n",
              "      <th>6</th>\n",
              "      <td>0.134598</td>\n",
              "      <td>0.956033</td>\n",
              "      <td>0.121255</td>\n",
              "      <td>0.961361</td>\n",
              "    </tr>\n",
              "    <tr>\n",
              "      <th>7</th>\n",
              "      <td>0.132065</td>\n",
              "      <td>0.956649</td>\n",
              "      <td>0.117443</td>\n",
              "      <td>0.961144</td>\n",
              "    </tr>\n",
              "    <tr>\n",
              "      <th>8</th>\n",
              "      <td>0.129497</td>\n",
              "      <td>0.958208</td>\n",
              "      <td>0.117457</td>\n",
              "      <td>0.960926</td>\n",
              "    </tr>\n",
              "    <tr>\n",
              "      <th>9</th>\n",
              "      <td>0.130037</td>\n",
              "      <td>0.958462</td>\n",
              "      <td>0.113182</td>\n",
              "      <td>0.962050</td>\n",
              "    </tr>\n",
              "    <tr>\n",
              "      <th>10</th>\n",
              "      <td>0.126901</td>\n",
              "      <td>0.958933</td>\n",
              "      <td>0.131168</td>\n",
              "      <td>0.960093</td>\n",
              "    </tr>\n",
              "    <tr>\n",
              "      <th>11</th>\n",
              "      <td>0.125232</td>\n",
              "      <td>0.958824</td>\n",
              "      <td>0.109091</td>\n",
              "      <td>0.962485</td>\n",
              "    </tr>\n",
              "    <tr>\n",
              "      <th>12</th>\n",
              "      <td>0.124089</td>\n",
              "      <td>0.959150</td>\n",
              "      <td>0.109227</td>\n",
              "      <td>0.962630</td>\n",
              "    </tr>\n",
              "    <tr>\n",
              "      <th>13</th>\n",
              "      <td>0.121392</td>\n",
              "      <td>0.960310</td>\n",
              "      <td>0.113407</td>\n",
              "      <td>0.963174</td>\n",
              "    </tr>\n",
              "    <tr>\n",
              "      <th>14</th>\n",
              "      <td>0.121875</td>\n",
              "      <td>0.960093</td>\n",
              "      <td>0.115848</td>\n",
              "      <td>0.963391</td>\n",
              "    </tr>\n",
              "    <tr>\n",
              "      <th>15</th>\n",
              "      <td>0.117856</td>\n",
              "      <td>0.960854</td>\n",
              "      <td>0.108527</td>\n",
              "      <td>0.964370</td>\n",
              "    </tr>\n",
              "    <tr>\n",
              "      <th>16</th>\n",
              "      <td>0.118076</td>\n",
              "      <td>0.961688</td>\n",
              "      <td>0.113047</td>\n",
              "      <td>0.963572</td>\n",
              "    </tr>\n",
              "    <tr>\n",
              "      <th>17</th>\n",
              "      <td>0.118968</td>\n",
              "      <td>0.960347</td>\n",
              "      <td>0.107289</td>\n",
              "      <td>0.963174</td>\n",
              "    </tr>\n",
              "    <tr>\n",
              "      <th>18</th>\n",
              "      <td>0.121443</td>\n",
              "      <td>0.960274</td>\n",
              "      <td>0.101752</td>\n",
              "      <td>0.965856</td>\n",
              "    </tr>\n",
              "    <tr>\n",
              "      <th>19</th>\n",
              "      <td>0.116835</td>\n",
              "      <td>0.960999</td>\n",
              "      <td>0.100651</td>\n",
              "      <td>0.964914</td>\n",
              "    </tr>\n",
              "  </tbody>\n",
              "</table>\n",
              "</div>\n",
              "    <div class=\"colab-df-buttons\">\n",
              "\n",
              "  <div class=\"colab-df-container\">\n",
              "    <button class=\"colab-df-convert\" onclick=\"convertToInteractive('df-64a7a80c-a4f6-457a-b8d3-a45c43d8ea48')\"\n",
              "            title=\"Convert this dataframe to an interactive table.\"\n",
              "            style=\"display:none;\">\n",
              "\n",
              "  <svg xmlns=\"http://www.w3.org/2000/svg\" height=\"24px\" viewBox=\"0 -960 960 960\">\n",
              "    <path d=\"M120-120v-720h720v720H120Zm60-500h600v-160H180v160Zm220 220h160v-160H400v160Zm0 220h160v-160H400v160ZM180-400h160v-160H180v160Zm440 0h160v-160H620v160ZM180-180h160v-160H180v160Zm440 0h160v-160H620v160Z\"/>\n",
              "  </svg>\n",
              "    </button>\n",
              "\n",
              "  <style>\n",
              "    .colab-df-container {\n",
              "      display:flex;\n",
              "      gap: 12px;\n",
              "    }\n",
              "\n",
              "    .colab-df-convert {\n",
              "      background-color: #E8F0FE;\n",
              "      border: none;\n",
              "      border-radius: 50%;\n",
              "      cursor: pointer;\n",
              "      display: none;\n",
              "      fill: #1967D2;\n",
              "      height: 32px;\n",
              "      padding: 0 0 0 0;\n",
              "      width: 32px;\n",
              "    }\n",
              "\n",
              "    .colab-df-convert:hover {\n",
              "      background-color: #E2EBFA;\n",
              "      box-shadow: 0px 1px 2px rgba(60, 64, 67, 0.3), 0px 1px 3px 1px rgba(60, 64, 67, 0.15);\n",
              "      fill: #174EA6;\n",
              "    }\n",
              "\n",
              "    .colab-df-buttons div {\n",
              "      margin-bottom: 4px;\n",
              "    }\n",
              "\n",
              "    [theme=dark] .colab-df-convert {\n",
              "      background-color: #3B4455;\n",
              "      fill: #D2E3FC;\n",
              "    }\n",
              "\n",
              "    [theme=dark] .colab-df-convert:hover {\n",
              "      background-color: #434B5C;\n",
              "      box-shadow: 0px 1px 3px 1px rgba(0, 0, 0, 0.15);\n",
              "      filter: drop-shadow(0px 1px 2px rgba(0, 0, 0, 0.3));\n",
              "      fill: #FFFFFF;\n",
              "    }\n",
              "  </style>\n",
              "\n",
              "    <script>\n",
              "      const buttonEl =\n",
              "        document.querySelector('#df-64a7a80c-a4f6-457a-b8d3-a45c43d8ea48 button.colab-df-convert');\n",
              "      buttonEl.style.display =\n",
              "        google.colab.kernel.accessAllowed ? 'block' : 'none';\n",
              "\n",
              "      async function convertToInteractive(key) {\n",
              "        const element = document.querySelector('#df-64a7a80c-a4f6-457a-b8d3-a45c43d8ea48');\n",
              "        const dataTable =\n",
              "          await google.colab.kernel.invokeFunction('convertToInteractive',\n",
              "                                                    [key], {});\n",
              "        if (!dataTable) return;\n",
              "\n",
              "        const docLinkHtml = 'Like what you see? Visit the ' +\n",
              "          '<a target=\"_blank\" href=https://colab.research.google.com/notebooks/data_table.ipynb>data table notebook</a>'\n",
              "          + ' to learn more about interactive tables.';\n",
              "        element.innerHTML = '';\n",
              "        dataTable['output_type'] = 'display_data';\n",
              "        await google.colab.output.renderOutput(dataTable, element);\n",
              "        const docLink = document.createElement('div');\n",
              "        docLink.innerHTML = docLinkHtml;\n",
              "        element.appendChild(docLink);\n",
              "      }\n",
              "    </script>\n",
              "  </div>\n",
              "\n",
              "\n",
              "<div id=\"df-7a43f10c-cea6-4674-ad84-9e0508c64188\">\n",
              "  <button class=\"colab-df-quickchart\" onclick=\"quickchart('df-7a43f10c-cea6-4674-ad84-9e0508c64188')\"\n",
              "            title=\"Suggest charts\"\n",
              "            style=\"display:none;\">\n",
              "\n",
              "<svg xmlns=\"http://www.w3.org/2000/svg\" height=\"24px\"viewBox=\"0 0 24 24\"\n",
              "     width=\"24px\">\n",
              "    <g>\n",
              "        <path d=\"M19 3H5c-1.1 0-2 .9-2 2v14c0 1.1.9 2 2 2h14c1.1 0 2-.9 2-2V5c0-1.1-.9-2-2-2zM9 17H7v-7h2v7zm4 0h-2V7h2v10zm4 0h-2v-4h2v4z\"/>\n",
              "    </g>\n",
              "</svg>\n",
              "  </button>\n",
              "\n",
              "<style>\n",
              "  .colab-df-quickchart {\n",
              "      --bg-color: #E8F0FE;\n",
              "      --fill-color: #1967D2;\n",
              "      --hover-bg-color: #E2EBFA;\n",
              "      --hover-fill-color: #174EA6;\n",
              "      --disabled-fill-color: #AAA;\n",
              "      --disabled-bg-color: #DDD;\n",
              "  }\n",
              "\n",
              "  [theme=dark] .colab-df-quickchart {\n",
              "      --bg-color: #3B4455;\n",
              "      --fill-color: #D2E3FC;\n",
              "      --hover-bg-color: #434B5C;\n",
              "      --hover-fill-color: #FFFFFF;\n",
              "      --disabled-bg-color: #3B4455;\n",
              "      --disabled-fill-color: #666;\n",
              "  }\n",
              "\n",
              "  .colab-df-quickchart {\n",
              "    background-color: var(--bg-color);\n",
              "    border: none;\n",
              "    border-radius: 50%;\n",
              "    cursor: pointer;\n",
              "    display: none;\n",
              "    fill: var(--fill-color);\n",
              "    height: 32px;\n",
              "    padding: 0;\n",
              "    width: 32px;\n",
              "  }\n",
              "\n",
              "  .colab-df-quickchart:hover {\n",
              "    background-color: var(--hover-bg-color);\n",
              "    box-shadow: 0 1px 2px rgba(60, 64, 67, 0.3), 0 1px 3px 1px rgba(60, 64, 67, 0.15);\n",
              "    fill: var(--button-hover-fill-color);\n",
              "  }\n",
              "\n",
              "  .colab-df-quickchart-complete:disabled,\n",
              "  .colab-df-quickchart-complete:disabled:hover {\n",
              "    background-color: var(--disabled-bg-color);\n",
              "    fill: var(--disabled-fill-color);\n",
              "    box-shadow: none;\n",
              "  }\n",
              "\n",
              "  .colab-df-spinner {\n",
              "    border: 2px solid var(--fill-color);\n",
              "    border-color: transparent;\n",
              "    border-bottom-color: var(--fill-color);\n",
              "    animation:\n",
              "      spin 1s steps(1) infinite;\n",
              "  }\n",
              "\n",
              "  @keyframes spin {\n",
              "    0% {\n",
              "      border-color: transparent;\n",
              "      border-bottom-color: var(--fill-color);\n",
              "      border-left-color: var(--fill-color);\n",
              "    }\n",
              "    20% {\n",
              "      border-color: transparent;\n",
              "      border-left-color: var(--fill-color);\n",
              "      border-top-color: var(--fill-color);\n",
              "    }\n",
              "    30% {\n",
              "      border-color: transparent;\n",
              "      border-left-color: var(--fill-color);\n",
              "      border-top-color: var(--fill-color);\n",
              "      border-right-color: var(--fill-color);\n",
              "    }\n",
              "    40% {\n",
              "      border-color: transparent;\n",
              "      border-right-color: var(--fill-color);\n",
              "      border-top-color: var(--fill-color);\n",
              "    }\n",
              "    60% {\n",
              "      border-color: transparent;\n",
              "      border-right-color: var(--fill-color);\n",
              "    }\n",
              "    80% {\n",
              "      border-color: transparent;\n",
              "      border-right-color: var(--fill-color);\n",
              "      border-bottom-color: var(--fill-color);\n",
              "    }\n",
              "    90% {\n",
              "      border-color: transparent;\n",
              "      border-bottom-color: var(--fill-color);\n",
              "    }\n",
              "  }\n",
              "</style>\n",
              "\n",
              "  <script>\n",
              "    async function quickchart(key) {\n",
              "      const quickchartButtonEl =\n",
              "        document.querySelector('#' + key + ' button');\n",
              "      quickchartButtonEl.disabled = true;  // To prevent multiple clicks.\n",
              "      quickchartButtonEl.classList.add('colab-df-spinner');\n",
              "      try {\n",
              "        const charts = await google.colab.kernel.invokeFunction(\n",
              "            'suggestCharts', [key], {});\n",
              "      } catch (error) {\n",
              "        console.error('Error during call to suggestCharts:', error);\n",
              "      }\n",
              "      quickchartButtonEl.classList.remove('colab-df-spinner');\n",
              "      quickchartButtonEl.classList.add('colab-df-quickchart-complete');\n",
              "    }\n",
              "    (() => {\n",
              "      let quickchartButtonEl =\n",
              "        document.querySelector('#df-7a43f10c-cea6-4674-ad84-9e0508c64188 button');\n",
              "      quickchartButtonEl.style.display =\n",
              "        google.colab.kernel.accessAllowed ? 'block' : 'none';\n",
              "    })();\n",
              "  </script>\n",
              "</div>\n",
              "\n",
              "  <div id=\"id_2b0d823f-4ff0-47d2-af07-7bf6f00a44ff\">\n",
              "    <style>\n",
              "      .colab-df-generate {\n",
              "        background-color: #E8F0FE;\n",
              "        border: none;\n",
              "        border-radius: 50%;\n",
              "        cursor: pointer;\n",
              "        display: none;\n",
              "        fill: #1967D2;\n",
              "        height: 32px;\n",
              "        padding: 0 0 0 0;\n",
              "        width: 32px;\n",
              "      }\n",
              "\n",
              "      .colab-df-generate:hover {\n",
              "        background-color: #E2EBFA;\n",
              "        box-shadow: 0px 1px 2px rgba(60, 64, 67, 0.3), 0px 1px 3px 1px rgba(60, 64, 67, 0.15);\n",
              "        fill: #174EA6;\n",
              "      }\n",
              "\n",
              "      [theme=dark] .colab-df-generate {\n",
              "        background-color: #3B4455;\n",
              "        fill: #D2E3FC;\n",
              "      }\n",
              "\n",
              "      [theme=dark] .colab-df-generate:hover {\n",
              "        background-color: #434B5C;\n",
              "        box-shadow: 0px 1px 3px 1px rgba(0, 0, 0, 0.15);\n",
              "        filter: drop-shadow(0px 1px 2px rgba(0, 0, 0, 0.3));\n",
              "        fill: #FFFFFF;\n",
              "      }\n",
              "    </style>\n",
              "    <button class=\"colab-df-generate\" onclick=\"generateWithVariable('s')\"\n",
              "            title=\"Generate code using this dataframe.\"\n",
              "            style=\"display:none;\">\n",
              "\n",
              "  <svg xmlns=\"http://www.w3.org/2000/svg\" height=\"24px\"viewBox=\"0 0 24 24\"\n",
              "       width=\"24px\">\n",
              "    <path d=\"M7,19H8.4L18.45,9,17,7.55,7,17.6ZM5,21V16.75L18.45,3.32a2,2,0,0,1,2.83,0l1.4,1.43a1.91,1.91,0,0,1,.58,1.4,1.91,1.91,0,0,1-.58,1.4L9.25,21ZM18.45,9,17,7.55Zm-12,3A5.31,5.31,0,0,0,4.9,8.1,5.31,5.31,0,0,0,1,6.5,5.31,5.31,0,0,0,4.9,4.9,5.31,5.31,0,0,0,6.5,1,5.31,5.31,0,0,0,8.1,4.9,5.31,5.31,0,0,0,12,6.5,5.46,5.46,0,0,0,6.5,12Z\"/>\n",
              "  </svg>\n",
              "    </button>\n",
              "    <script>\n",
              "      (() => {\n",
              "      const buttonEl =\n",
              "        document.querySelector('#id_2b0d823f-4ff0-47d2-af07-7bf6f00a44ff button.colab-df-generate');\n",
              "      buttonEl.style.display =\n",
              "        google.colab.kernel.accessAllowed ? 'block' : 'none';\n",
              "\n",
              "      buttonEl.onclick = () => {\n",
              "        google.colab.notebook.generateWithVariable('s');\n",
              "      }\n",
              "      })();\n",
              "    </script>\n",
              "  </div>\n",
              "\n",
              "    </div>\n",
              "  </div>\n"
            ]
          },
          "metadata": {},
          "execution_count": 14
        }
      ],
      "source": [
        "s=summary = pd.DataFrame(Model.history.history)\n",
        "#print( pd.DataFrame(Model.history.history))\n",
        "s"
      ],
      "id": "904215e5"
    },
    {
      "cell_type": "markdown",
      "metadata": {
        "id": "2c25cd66"
      },
      "source": [
        "# <font color='violet'>Test Accuracy<font/>"
      ],
      "id": "2c25cd66"
    },
    {
      "cell_type": "code",
      "execution_count": 15,
      "metadata": {
        "colab": {
          "base_uri": "https://localhost:8080/"
        },
        "id": "8c315884",
        "outputId": "91e9c987-c0f2-4793-c278-f47f817bb7d0"
      },
      "outputs": [
        {
          "output_type": "stream",
          "name": "stdout",
          "text": [
            "432/432 [==============================] - 160s 370ms/step - loss: 0.1007 - accuracy: 0.9649\n",
            "Test Accuracy : 96.49%\n"
          ]
        }
      ],
      "source": [
        "print('Test Accuracy : {:.2f}%'.format(Model.evaluate(test_set)[1]*100))"
      ],
      "id": "8c315884"
    },
    {
      "cell_type": "markdown",
      "metadata": {
        "id": "e0b87ce3"
      },
      "source": [
        "# Save the Model"
      ],
      "id": "e0b87ce3"
    },
    {
      "cell_type": "code",
      "execution_count": 16,
      "metadata": {
        "colab": {
          "base_uri": "https://localhost:8080/"
        },
        "id": "20f5ae86",
        "outputId": "9b8e34c3-207a-4e49-f7a5-9cf02acf35a2"
      },
      "outputs": [
        {
          "output_type": "stream",
          "name": "stderr",
          "text": [
            "/usr/local/lib/python3.10/dist-packages/keras/src/engine/training.py:3103: UserWarning: You are saving your model as an HDF5 file via `model.save()`. This file format is considered legacy. We recommend using instead the native Keras format, e.g. `model.save('my_model.keras')`.\n",
            "  saving_api.save_model(\n"
          ]
        }
      ],
      "source": [
        "Model.save(\"Malariagit97_final.h5\")"
      ],
      "id": "20f5ae86"
    },
    {
      "cell_type": "markdown",
      "metadata": {
        "id": "4ab19dfc"
      },
      "source": [
        "# <font color='aqua'>Visualising Model Performance<font/>"
      ],
      "id": "4ab19dfc"
    },
    {
      "cell_type": "code",
      "execution_count": 17,
      "metadata": {
        "colab": {
          "base_uri": "https://localhost:8080/",
          "height": 860
        },
        "id": "8b12a6f5",
        "outputId": "36b16798-69b1-4565-f149-085ef4340a3a"
      },
      "outputs": [
        {
          "output_type": "display_data",
          "data": {
            "text/plain": [
              "<Figure size 640x480 with 1 Axes>"
            ],
            "image/png": "[encoded data removed]"
          },
          "metadata": {}
        },
        {
          "output_type": "display_data",
          "data": {
            "text/plain": [
              "<Figure size 640x480 with 1 Axes>"
            ],
            "image/png": "[encoded data removed]"
          },
          "metadata": {}
        },
        {
          "output_type": "display_data",
          "data": {
            "text/plain": [
              "<Figure size 640x480 with 0 Axes>"
            ]
          },
          "metadata": {}
        }
      ],
      "source": [
        "# plot the loss\n",
        "plt.plot(history.history['loss'], label='train loss')\n",
        "plt.plot(history.history['val_loss'], label='val loss')\n",
        "plt.legend()\n",
        "plt.show()\n",
        "plt.savefig('LossVal_loss')\n",
        "\n",
        "# plot the accuracy\n",
        "plt.plot(history.history['accuracy'], label='train acc')\n",
        "plt.plot(history.history['val_accuracy'], label='val acc')\n",
        "plt.legend()\n",
        "plt.show()\n",
        "plt.savefig('AccVal_acc')"
      ],
      "id": "8b12a6f5"
    },
    {
      "cell_type": "code",
      "execution_count": 18,
      "metadata": {
        "colab": {
          "base_uri": "https://localhost:8080/",
          "height": 478
        },
        "id": "d30145d6",
        "outputId": "9448819d-e37e-4732-f66c-be24df94847d"
      },
      "outputs": [
        {
          "output_type": "display_data",
          "data": {
            "text/plain": [
              "<Figure size 2200x600 with 2 Axes>"
            ],
            "image/png": "[encoded data removed]"
          },
          "metadata": {}
        }
      ],
      "source": [
        "#Plotting Accuracy and loss graph\n",
        "\n",
        "f, (ax1, ax2) = plt.subplots(1, 2, figsize=(22, 6))\n",
        "t = f.suptitle('CNN Performance', fontsize=18)\n",
        "f.subplots_adjust(top=0.85, wspace=0.3)\n",
        "max_epoch = len(history.history['accuracy'])+1\n",
        "epoch_list = list(range(1,max_epoch))\n",
        "\n",
        "ax1.plot(epoch_list, history.history['accuracy'], label = 'Train Accuracy')\n",
        "ax1.plot(epoch_list, history.history['val_accuracy'], label = 'Validation Accuracy')\n",
        "ax1.set_xticks(np.arange(1, max_epoch + 1, 5))\n",
        "ax1.set_ylabel('Accuracy Value')\n",
        "ax1.set_xlabel('Epoch')\n",
        "ax1.set_title('Accuracy')\n",
        "l1 = ax1.legend(loc = \"best\")\n",
        "\n",
        "ax2.plot(epoch_list, history.history['loss'], label = 'Train Loss')\n",
        "ax2.plot(epoch_list, history.history['val_loss'], label = 'Validation LOss')\n",
        "ax2.set_xticks(np.arange(1, max_epoch + 1, 5))\n",
        "ax2.set_ylabel('Loss Value')\n",
        "ax2.set_xlabel('Epoch')\n",
        "ax2.set_title('Loss')\n",
        "l2 = ax2.legend(loc = \"best\")"
      ],
      "id": "d30145d6"
    },
    {
      "cell_type": "markdown",
      "metadata": {
        "id": "b9f83b2a"
      },
      "source": [
        "# <font color='red'>Predictions with the Model<font/>"
      ],
      "id": "b9f83b2a"
    },
    {
      "cell_type": "code",
      "execution_count": 19,
      "metadata": {
        "colab": {
          "base_uri": "https://localhost:8080/"
        },
        "id": "cbec5455",
        "outputId": "ac979dbc-0692-4c1f-ac4e-df6b140db921"
      },
      "outputs": [
        {
          "output_type": "stream",
          "name": "stdout",
          "text": [
            "Model: \"sequential\"\n",
            "_________________________________________________________________\n",
            " Layer (type)                Output Shape              Param #   \n",
            "=================================================================\n",
            " conv2d (Conv2D)             (None, 64, 64, 32)        896       \n",
            "                                                                 \n",
            " max_pooling2d (MaxPooling2  (None, 32, 32, 32)        0         \n",
            " D)                                                              \n",
            "                                                                 \n",
            " dropout (Dropout)           (None, 32, 32, 32)        0         \n",
            "                                                                 \n",
            " conv2d_1 (Conv2D)           (None, 32, 32, 32)        9248      \n",
            "                                                                 \n",
            " max_pooling2d_1 (MaxPoolin  (None, 16, 16, 32)        0         \n",
            " g2D)                                                            \n",
            "                                                                 \n",
            " dropout_1 (Dropout)         (None, 16, 16, 32)        0         \n",
            "                                                                 \n",
            " conv2d_2 (Conv2D)           (None, 16, 16, 32)        9248      \n",
            "                                                                 \n",
            " max_pooling2d_2 (MaxPoolin  (None, 8, 8, 32)          0         \n",
            " g2D)                                                            \n",
            "                                                                 \n",
            " dropout_2 (Dropout)         (None, 8, 8, 32)          0         \n",
            "                                                                 \n",
            " flatten (Flatten)           (None, 2048)              0         \n",
            "                                                                 \n",
            " dense (Dense)               (None, 256)               524544    \n",
            "                                                                 \n",
            " dropout_3 (Dropout)         (None, 256)               0         \n",
            "                                                                 \n",
            " dense_1 (Dense)             (None, 128)               32896     \n",
            "                                                                 \n",
            " dropout_4 (Dropout)         (None, 128)               0         \n",
            "                                                                 \n",
            " dense_2 (Dense)             (None, 1)                 129       \n",
            "                                                                 \n",
            "=================================================================\n",
            "Total params: 576961 (2.20 MB)\n",
            "Trainable params: 576961 (2.20 MB)\n",
            "Non-trainable params: 0 (0.00 Byte)\n",
            "_________________________________________________________________\n"
          ]
        }
      ],
      "source": [
        "Model=load_model(\"Malariagit97_final.h5\")\n",
        "Model.summary()"
      ],
      "id": "cbec5455"
    },
    {
      "cell_type": "markdown",
      "metadata": {
        "id": "8456db81"
      },
      "source": [
        "### Loading sample images"
      ],
      "id": "8456db81"
    },
    {
      "cell_type": "code",
      "execution_count": null,
      "metadata": {
        "id": "7721f908"
      },
      "outputs": [],
      "source": [
        "test_image=load_img(\"cell-images/Uninfected/C1_thinF_IMG_20150604_104722_cell_151.png\",target_size=(64,64))"
      ],
      "id": "7721f908"
    },
    {
      "cell_type": "code",
      "execution_count": null,
      "metadata": {
        "colab": {
          "base_uri": "https://localhost:8080/",
          "height": 81
        },
        "id": "bf41eb32",
        "outputId": "f6800dfc-24c4-42a5-f3e7-09081d7dc925"
      },
      "outputs": [
        {
          "data": {
            "image/png": "[encoded data removed]",
            "text/plain": [
              "<PIL.Image.Image image mode=RGB size=64x64>"
            ]
          },
          "execution_count": 70,
          "metadata": {},
          "output_type": "execute_result"
        }
      ],
      "source": [
        "test_image"
      ],
      "id": "bf41eb32"
    },
    {
      "cell_type": "code",
      "execution_count": null,
      "metadata": {
        "id": "15d76866"
      },
      "outputs": [],
      "source": [
        "def Predictions(test_image):\n",
        "    test_image = np.array(test_image)\n",
        "    test_image = np.expand_dims(test_image, axis = 0)\n",
        "    result = Model.predict(test_image)\n",
        "\n",
        "    if result[0][0] == 0:\n",
        "        return 'Parasitized'\n",
        "    else:\n",
        "        return 'Uninfected'"
      ],
      "id": "15d76866"
    },
    {
      "cell_type": "code",
      "execution_count": null,
      "metadata": {
        "colab": {
          "base_uri": "https://localhost:8080/",
          "height": 53
        },
        "id": "a14a8675",
        "outputId": "09574ed8-aea0-45f5-ab70-359fe84f89ea"
      },
      "outputs": [
        {
          "name": "stdout",
          "output_type": "stream",
          "text": [
            "1/1 [==============================] - 0s 118ms/step\n"
          ]
        },
        {
          "data": {
            "application/vnd.google.colaboratory.intrinsic+json": {
              "type": "string"
            },
            "text/plain": [
              "'Uninfected'"
            ]
          },
          "execution_count": 72,
          "metadata": {},
          "output_type": "execute_result"
        }
      ],
      "source": [
        "Predictions(test_image)"
      ],
      "id": "a14a8675"
    },
    {
      "cell_type": "markdown",
      "metadata": {
        "id": "f3e8f110"
      },
      "source": [
        "#  <center><font color = 'REd'>Thank You ! <font/><center/>"
      ],
      "id": "f3e8f110"
    }
  ],
  "metadata": {
    "colab": {
      "provenance": [],
      "include_colab_link": true
    },
    "kernelspec": {
      "display_name": "Python 3 (ipykernel)",
      "language": "python",
      "name": "python3"
    },
    "language_info": {
      "codemirror_mode": {
        "name": "ipython",
        "version": 3
      },
      "file_extension": ".py",
      "mimetype": "text/x-python",
      "name": "python",
      "nbconvert_exporter": "python",
      "pygments_lexer": "ipython3",
      "version": "3.9.13"
    },
    "vscode": {
      "interpreter": {
        "hash": "5a7d7e000ddee58f44a78b18bba51ebda1624af7f5fac6b7fbde648c1467651c"
      }
    }
  },
  "nbformat": 4,
  "nbformat_minor": 5
}